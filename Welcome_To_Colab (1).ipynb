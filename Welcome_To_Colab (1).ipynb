{
  "cells": [
    {
      "cell_type": "code",
      "source": [
        "ID = 'apple'\n",
        "Password = input()\n",
        "print(\"Enter your password\")\n",
        "\n",
        "if ID == 'apple':\n",
        "  print('ID is correct')\n",
        "  if Password == 'apple1':\n",
        "    print(\"Password is correct\")\n",
        "  else:\n",
        "      print(\"Password is not correct\")"
      ],
      "metadata": {
        "colab": {
          "base_uri": "https://localhost:8080/"
        },
        "id": "rMO2BPAZ1c99",
        "outputId": "2264ba68-4c47-475e-f68d-122a3a891349"
      },
      "execution_count": 12,
      "outputs": [
        {
          "output_type": "stream",
          "name": "stdout",
          "text": [
            "apple                                                  \n",
            "Enter your password\n",
            "ID is correct\n",
            "Password is not correct\n"
          ]
        }
      ]
    },
    {
      "cell_type": "code",
      "source": [
        "score = input()\n",
        "print(\"Your score \",score)\n",
        "\n",
        "score = int(score)\n",
        "\n",
        "if score > 90:\n",
        "  print(\"Your grade is A\")\n",
        "elif score >80:\n",
        "  print(\"Your grade is B\")\n",
        "elif score >70:\n",
        "  print(\"Your grade is C\")\n",
        "else:\n",
        "  print(\"Your grade is D\")"
      ],
      "metadata": {
        "colab": {
          "base_uri": "https://localhost:8080/"
        },
        "id": "Fq6UoGuy1dAi",
        "outputId": "67a2a058-3bd7-4497-ad70-531d0bff02f2"
      },
      "execution_count": 9,
      "outputs": [
        {
          "output_type": "stream",
          "name": "stdout",
          "text": [
            "100\n",
            "Your score  100\n",
            "Your grade is A\n"
          ]
        }
      ]
    },
    {
      "cell_type": "code",
      "source": [],
      "metadata": {
        "id": "ztq5_md61dEG"
      },
      "execution_count": null,
      "outputs": []
    },
    {
      "cell_type": "code",
      "source": [],
      "metadata": {
        "id": "ABygK5e41dG0"
      },
      "execution_count": null,
      "outputs": []
    },
    {
      "cell_type": "code",
      "source": [],
      "metadata": {
        "id": "DbL1f1D21dJY"
      },
      "execution_count": null,
      "outputs": []
    },
    {
      "cell_type": "code",
      "source": [],
      "metadata": {
        "id": "wgDmUMwr1dMC"
      },
      "execution_count": null,
      "outputs": []
    }
  ],
  "metadata": {
    "colab": {
      "name": "Welcome To Colab",
      "toc_visible": true,
      "provenance": []
    },
    "kernelspec": {
      "display_name": "Python 3",
      "name": "python3"
    }
  },
  "nbformat": 4,
  "nbformat_minor": 0
}